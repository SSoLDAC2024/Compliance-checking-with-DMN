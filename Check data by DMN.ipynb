{
 "cells": [
  {
   "cell_type": "markdown",
   "metadata": {},
   "source": [
    "### Loading Json data \n",
    "First, we load the staircase data from the .json file, in a dictionary. <br>\n",
    "Both modules (json, pprint) are included in the standard python installation.  "
   ]
  },
  {
   "cell_type": "code",
   "execution_count": 10,
   "metadata": {},
   "outputs": [
    {
     "name": "stdout",
     "output_type": "stream",
     "text": [
      "[{'NumberOfRailings': 2,\n",
      "  'RiserHeight': 175,\n",
      "  'ThreadLength': 240,\n",
      "  'name': 'Precast Stair:Stair:381758'},\n",
      " {'NumberOfRailings': 2,\n",
      "  'RiserHeight': 178,\n",
      "  'ThreadLength': 240,\n",
      "  'name': 'Precast Stair:Stair:383689'}]\n"
     ]
    }
   ],
   "source": [
    "import json\n",
    "from pprint import pprint\n",
    "\n",
    "# Read the JSON file and parse it into a list of dictionaries\n",
    "with open(\"data/stairs.json\", \"r\") as json_file:\n",
    "    stairs_dict = json.load(json_file)\n",
    "\n",
    "pprint(stairs_dict)"
   ]
  },
  {
   "cell_type": "markdown",
   "metadata": {},
   "source": [
    "### Connect to the KIE server \n",
    "To check our data against the DMN rules, we connect to the KIE server running in the background. This service acts as a reasoning engine that can also be accessed manually by entering the IP address (found in the console) in a browser. This can be a good first check of your DMN model.\n",
    "We use the 'requests' module, which we *pip install requests* in the terminal. <br>\n",
    "As a starting point, let's see if we can ping the endpoint by using the ip address provided by the KIE server...<br>\n",
    "Let's send an empty json file as the post content, this will return an *internal server* error (status code:500), which is fine because it also signals that we have managed to connect."
   ]
  },
  {
   "cell_type": "code",
   "execution_count": 11,
   "metadata": {},
   "outputs": [
    {
     "name": "stdout",
     "output_type": "stream",
     "text": [
      "Status Code: 500\n"
     ]
    }
   ],
   "source": [
    "\n",
    "import requests\n",
    "import os\n",
    "\n",
    "endpoint = 'http://127.0.0.1:51553/jitdmn' \n",
    "response = requests.post(endpoint, {}, headers={\"Content-Type\": \"application/json\"})\n",
    "\n",
    "# Print the status code\n",
    "print(f\"Status Code: {response.status_code}\")"
   ]
  },
  {
   "cell_type": "markdown",
   "metadata": {},
   "source": [
    "### Evaluating project data against decision models\n",
    "OK, with the connection established, we define a function to manage communication, it takes three arguments: \n",
    "- dmn model,\n",
    "- server edpoint,\n",
    "- required project data. <br>\n",
    "\n"
   ]
  },
  {
   "cell_type": "code",
   "execution_count": 12,
   "metadata": {},
   "outputs": [
    {
     "name": "stdout",
     "output_type": "stream",
     "text": [
      "Response: {'StairFormula': 'function StairFormula( rh, tl )', 'StairFormulaOk': True, 'RailingsOk': True, 'StairIsAccessible': True, 'name': 'Precast Stair:Stair:381758', 'RiserHeight': 175, 'NumberOfRailings': 2, 'ThreadLength': 240}\n",
      "Response: {'StairFormula': 'function StairFormula( rh, tl )', 'StairFormulaOk': True, 'RailingsOk': True, 'StairIsAccessible': True, 'name': 'Precast Stair:Stair:383689', 'RiserHeight': 178, 'NumberOfRailings': 2, 'ThreadLength': 240}\n"
     ]
    }
   ],
   "source": [
    "# Function to send file and data\n",
    "def send_file_and_data(dmn, endpoint, data):\n",
    "    try:\n",
    "        # Read the XML file\n",
    "        with open(dmn, 'r', encoding='utf-8') as file:\n",
    "            xml_data = file.read()\n",
    "\n",
    "        # Create the request body\n",
    "        body = {\n",
    "            \"model\": xml_data,\n",
    "            \"context\": data\n",
    "        }\n",
    "\n",
    "        # Send the POST request\n",
    "        response = requests.post(endpoint, json=body, headers={\n",
    "            \"Content-Type\": \"application/json\"\n",
    "        })\n",
    "        \n",
    "        # Print the response\n",
    "        print('Response:', response.json())\n",
    "    except Exception as error:\n",
    "        print('Error sending file and data:', error)\n",
    "\n",
    "dmn = os.path.join(os.getcwd(), 'data/StairIsAccessible.dmn') \n",
    "for s in stairs_dict:\n",
    "    send_file_and_data(dmn, endpoint, s)\n"
   ]
  }
 ],
 "metadata": {
  "kernelspec": {
   "display_name": "Python 3",
   "language": "python",
   "name": "python3"
  },
  "language_info": {
   "codemirror_mode": {
    "name": "ipython",
    "version": 3
   },
   "file_extension": ".py",
   "mimetype": "text/x-python",
   "name": "python",
   "nbconvert_exporter": "python",
   "pygments_lexer": "ipython3",
   "version": "3.11.0"
  }
 },
 "nbformat": 4,
 "nbformat_minor": 2
}
