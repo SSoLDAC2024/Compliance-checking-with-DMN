{
 "cells": [
  {
   "cell_type": "markdown",
   "metadata": {},
   "source": [
    "### Loading IFC data  \n",
    "To explore the IFC model, we use the [IfcOpenShell](https://docs.ifcopenshell.org/ifcopenshell-python/installation.html) module, you will have to install it again when using a virtual environment. <br>\n"
   ]
  },
  {
   "cell_type": "code",
   "execution_count": null,
   "metadata": {},
   "outputs": [],
   "source": [
    "import ifcopenshell as ios\n",
    "\n",
    "model = ios.open(\"data/HeartbreakHotel.ifc\")"
   ]
  },
  {
   "cell_type": "markdown",
   "metadata": {},
   "source": [
    "### Iterating over the IfcStair instances \n",
    "We want to iterate over all stair instances and their properties and drop them into a list.<br> \n",
    "The same applies to relational object instances, as these define other objects that may be related to a stair flight, such as railings... "
   ]
  },
  {
   "cell_type": "code",
   "execution_count": null,
   "metadata": {},
   "outputs": [],
   "source": [
    "ifcstairs = model.by_type('IfcStair')\n",
    "relations = model.by_type('IfcRelAggregates')\n",
    "print(str(len(ifcstairs))+' IfcStairs found')"
   ]
  },
  {
   "cell_type": "markdown",
   "metadata": {},
   "source": [
    "### Drilling down the IfcModel in search for the IfcStair properties\n",
    "For convenience, we use a custom Python class that represents a stair concept. "
   ]
  },
  {
   "cell_type": "code",
   "execution_count": null,
   "metadata": {},
   "outputs": [],
   "source": [
    "from stair import Stair\n",
    "stair = []\n",
    "for ifcstair in ifcstairs:\n",
    "    if hasattr(ifcstair, \"IsDefinedBy\"):\n",
    "        for rel in ifcstair.IsDefinedBy:\n",
    "            if rel.is_a(\"IfcRelDefinesByProperties\"):\n",
    "                property_set = rel.RelatingPropertyDefinition\n",
    "                if property_set.is_a(\"IfcPropertySet\") and property_set.Name == \"Pset_StairCommon\":\n",
    "                    if hasattr(property_set, \"HasProperties\"):\n",
    "                        for property in property_set.HasProperties:\n",
    "                            if property.is_a(\"IfcPropertySingleValue\"):\n",
    "                                if property.Name == \"RiserHeight\":\n",
    "                                    riserheight = round(property.NominalValue.wrappedValue)\n",
    "                                if property.Name == \"TreadLength\":\n",
    "                                    threadlength = round(property.NominalValue.wrappedValue)\n",
    "    numberofrailings=0\n",
    "    for rel in relations:\n",
    "        for related_element in rel.RelatedObjects:\n",
    "            if related_element.is_a(\"IfcRailing\"):\n",
    "                if rel.RelatingObject.GlobalId == ifcstair.GlobalId:\n",
    "                    numberofrailings +=1\n",
    "    \n",
    "    new_stair = Stair(ifcstair.Name, riserheight, threadlength, numberofrailings)\n",
    "    stair.append(new_stair)\n",
    "    \n",
    "print(len(stair), \"stairs created.\")"
   ]
  },
  {
   "cell_type": "markdown",
   "metadata": {},
   "source": [
    "### Dumping the stair data\n",
    "Finally, we write the list of stair objects to a json file. In an intermediate step, we transform the list into a dictionary. Note that the json module has to be imported first. "
   ]
  },
  {
   "cell_type": "code",
   "execution_count": null,
   "metadata": {},
   "outputs": [],
   "source": [
    "\n",
    "import json\n",
    "\n",
    "stairs_dict = [stair.__dict__ for stair in stair]\n",
    "with open(\"data/stairs.json\", \"w\") as json_file:\n",
    "    json.dump(stairs_dict, json_file, indent=4)"
   ]
  }
 ],
 "metadata": {
  "kernelspec": {
   "display_name": "Python 3",
   "language": "python",
   "name": "python3"
  },
  "language_info": {
   "codemirror_mode": {
    "name": "ipython",
    "version": 3
   },
   "file_extension": ".py",
   "mimetype": "text/x-python",
   "name": "python",
   "nbconvert_exporter": "python",
   "pygments_lexer": "ipython3",
   "version": "3.11.0"
  }
 },
 "nbformat": 4,
 "nbformat_minor": 2
}
