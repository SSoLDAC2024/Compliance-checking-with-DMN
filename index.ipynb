{
 "cells": [
  {
   "cell_type": "markdown",
   "metadata": {},
   "source": [
    "### Table of Content\n",
    "- [Building our Decision Model](https://sandbox.kie.org/#/5fdedf0c-8bbf-4c46-8f0f-711e02ea7397/file/Untitled.dmn)\n",
    "- [Automating rule checking by using the KIE server](Check%20data%20by%20DMN.ipynb)\n",
    "- [Providing data from an IFC model](Extract%20IFC%20data)"
   ]
  }
 ],
 "metadata": {
  "language_info": {
   "name": "python"
  }
 },
 "nbformat": 4,
 "nbformat_minor": 2
}
