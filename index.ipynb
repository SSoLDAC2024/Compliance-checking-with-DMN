{
 "cells": [
  {
   "cell_type": "markdown",
   "metadata": {},
   "source": [
    "### Table of Content\n",
    "- We need the Knowledge Is Everything (KIE) [server](https://github.com/apache/incubator-kie-tools/releases/tag/0.32.0) locally installed.\n",
    "- Building our Decision Model at the [DMN.new](https://sandbox.kie.org/#/5fdedf0c-8bbf-4c46-8f0f-711e02ea7397/file/Untitled.dmn) site. \n",
    "- [Automating rule checking by using the KIE server](Check%20data%20by%20DMN.ipynb)\n",
    "- [Providing data from an IFC model](Extract%20IFC%20data)"
   ]
  }
 ],
 "metadata": {
  "language_info": {
   "name": "python"
  }
 },
 "nbformat": 4,
 "nbformat_minor": 2
}
